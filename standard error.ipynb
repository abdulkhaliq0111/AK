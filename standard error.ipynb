{
 "cells": [
  {
   "cell_type": "markdown",
   "metadata": {},
   "source": [
    "#                               STANDARD ERROR\n",
    "\n",
    "In this blog post,  A statistical concept Standard Error is discussed that help us in explaining how various Inferential Statistics work."
   ]
  },
  {
   "cell_type": "markdown",
   "metadata": {},
   "source": [
    "**Standard Error** : The standard error is an estimate of the standard deviation(SD) of a statistic. \n",
    "\n",
    "For example, Let's say you were to sample (some sample size n) from a population over and over again. Each sample will provide you with a mean. You write down all of those means. Now take the mean of those means. That should also be the population mean. You can also get the standard deviation of those means. That standard deviation is called the standard error.\n",
    " \n",
    " It's a measure of the average difference between each sample mean and the population mean.\n",
    " In a way it is similar to Standard Deviation as both are measures of spread with an important difference, that Standard Error is used as a measure to find the deviation between different means of sample and the mean of the population (actual mean) and thus it is a statistic whereas Standard Deviation is a parameter because data of the population is involved. \n",
    "\n",
    "So it is safe to say that the standard error is nothing but the standard deviation of the sampling distribution.\n",
    "\n"
   ]
  },
  {
   "cell_type": "markdown",
   "metadata": {},
   "source": [
    "# **Significance of Standard Error**:\n",
    "\n",
    "The standard error is important because it is used to compute other measures, like confidence intervals and margins of error.The confidence interval so constructed provides an estimate of the interval in which the population parameter will fall. \n",
    "\n",
    "Proper understanding and use of fundamental statistics, such as SD and SEM and their application will allow more reliable analysis, interpretation, and communication of data to readers.In simple words, Standard Error like Standard Deviation helps us to understand the spread or dispersion of our data in the sample distribution or the Sampling distribution of the mean.\n",
    "\n",
    "The two most commonly used standard error statistics are the standard error of the mean and the standard error of the estimate.\n",
    "\n",
    "The **standard error of the mean** permits the researcher to construct a confidence interval in which the population mean is likely to fall. The formula, (1-P) (most often P < 0.05) is the probability that the population mean will fall in the calculated interval (usually 95%).\n",
    "\n",
    "The **Standard Error of the estimate** is the other standard error statistic most commonly used by researchers. This statistic is used with the correlation measure, the Pearson R. It can allow the researcher to construct a confidence interval within which the true population correlation will fall. \n"
   ]
  },
  {
   "cell_type": "markdown",
   "metadata": {},
   "source": [
    "# **Standard Error of Mean(SEM)**\n",
    "\n",
    "It is important to note that there are standard errors for all kind of statistics. we are mostly concerned with the Standard Error of mean.\n",
    " \n",
    "Standard Error of the mean refers to the average distance between the expected value which is the population mean and the mean of each individual sample. Standard Error of the mean helps us to understand that how much our expected mean is close to the actual population mean i.e. how much of the actual mean does my expected value represents.\n",
    "\n",
    "The standard error of the mean (SEM) can be expressed as:\n",
    "\n",
    "<img src=\"SEF.jpg\"  width=100 height=100 >\n",
    "   \n",
    "where\n",
    "\n",
    "σ is the standard deviation of the population.\n",
    "\n",
    "n is the size (number of observations) of the sample.\n",
    "\n",
    "**Difference between Standard Error and Standard Error of mean**\n",
    "\n",
    "If you are getting to know about all such terms for the first time then all such statistical jargons may confuse you, especially the terms like Standard Error and Standard Error of mean which sound very similar to each other.\n",
    "\n",
    "Standard Error is a statistical term that measures the accuracy with which a sample represents a population. In statistics, a sample mean deviates from the actual mean of a population; this deviation is the standard error. The term “standard error” is used to refer to the standard deviation of various sample statistics such as the mean or median. \n",
    "\n",
    "For example, the “standard error of the mean” refers to the standard deviation of the distribution of sample means taken from a population. \n",
    "The smaller the standard error, the more representative the sample will be of the overall population. Thus this Standard Error of mean tells us how far away we are from the actual population mean. \n",
    "You must note that the value of Standard Error of mean is always smaller than the Standard Error. \n"
   ]
  },
  {
   "cell_type": "markdown",
   "metadata": {},
   "source": [
    "#"
   ]
  },
  {
   "cell_type": "markdown",
   "metadata": {},
   "source": [
    "**MISCONCEPTION OF SD AND SEM**:\n",
    "\n",
    "\n",
    "To study the entire population is time and resource intensive and not always feasible; therefore studies are often done on the sample; and data is summarized using descriptive statistics. These findings are further generalized to the larger, unobserved population using inferential statistics.\n",
    "\n",
    "As the SEM is always less than the SD, it misleads the reader into underestimating the variability between individuals within the study sample.\n",
    "\n",
    "Though, SEM and SD are used interchangeably to express the variability; they measure different parameters. SEM, an inferential parameter, quantifies uncertainty in the estimate of the mean; whereas SD is a descriptive parameter and quantifies the variability. As readers are generally interested in knowing variability within the sample, descriptive data should be precisely summarized with SD. Use of SEM should be limited to compute CI which measures the precision of population estimate.\n"
   ]
  },
  {
   "cell_type": "code",
   "execution_count": 1,
   "metadata": {},
   "outputs": [],
   "source": [
    "import numpy as np\n",
    "import pandas as pd\n",
    "import matplotlib.pyplot as plt\n",
    "import pylab\n",
    "import scipy\n",
    "import seaborn as sns\n"
   ]
  },
  {
   "cell_type": "markdown",
   "metadata": {},
   "source": [
    "Let's start exploring these ideas with the simplest possible case, however: random numbers generated from a known distribution, not necessarily a Gaussian. The experimental approach illustrated here, in which we calculate statistics from a generated ensemble, is complementary to the theoretical approach, in which analytic expressions are calculated for PDFs of interest.\n",
    "\n",
    "The advantages of the experimental approach are that (1) it doesn't require mathematical sophistication, (2) it can be applied to situations for which the analytic approach would be very difficult or even impossible, (3) it is relatively easy to understand and visualize."
   ]
  },
  {
   "cell_type": "code",
   "execution_count": 2,
   "metadata": {},
   "outputs": [],
   "source": [
    "def generate_normal_samples(random_seed, size, min, max):\n",
    "    rnd = np.random.RandomState(random_seed)\n",
    "    rnd = np.random.randint(min, max , size)\n",
    "    return rnd"
   ]
  },
  {
   "cell_type": "markdown",
   "metadata": {},
   "source": [
    "Below, I generate  normal distribution using the numpy random module's normal() method of mass values"
   ]
  },
  {
   "cell_type": "code",
   "execution_count": 3,
   "metadata": {},
   "outputs": [],
   "source": [
    "us_people_mass_pounds = generate_normal_samples(42, 100, 100, 1000)"
   ]
  },
  {
   "cell_type": "markdown",
   "metadata": {},
   "source": [
    "Use the seaborn distplot() method to create a histogram of the values in the column us_people_mass_pounds."
   ]
  },
  {
   "cell_type": "code",
   "execution_count": 4,
   "metadata": {},
   "outputs": [
    {
     "data": {
      "image/png": "[encoded data removed]",
      "text/plain": [
       "<Figure size 432x288 with 1 Axes>"
      ]
     },
     "metadata": {
      "needs_background": "light"
     },
     "output_type": "display_data"
    }
   ],
   "source": [
    "sns.distplot(us_people_mass_pounds, color=\"darkslategrey\", bins = 20, hist_kws=dict(edgecolor=\"b\", linewidth=.675))\n",
    "plt.xlabel(\"mass [pounds]\", labelpad=14)\n",
    "plt.ylabel(\"probability of occurence\", labelpad=14)\n",
    "plt.title(\"Distribution of Mass of People in U.S.\", fontsize=20);"
   ]
  },
  {
   "cell_type": "markdown",
   "metadata": {},
   "source": [
    "It's tough to characterize this distribution. It's got 2 large peaks, and it's not a normal distribution since there's no symmetry around a central value."
   ]
  },
  {
   "cell_type": "code",
   "execution_count": 5,
   "metadata": {},
   "outputs": [
    {
     "data": {
      "text/plain": [
       "554.03"
      ]
     },
     "execution_count": 5,
     "metadata": {},
     "output_type": "execute_result"
    }
   ],
   "source": [
    "pop_mean_mass = us_people_mass_pounds.mean()\n",
    "pop_mean_mass"
   ]
  },
  {
   "cell_type": "code",
   "execution_count": 6,
   "metadata": {},
   "outputs": [
    {
     "data": {
      "text/plain": [
       "270.7518589040526"
      ]
     },
     "execution_count": 6,
     "metadata": {},
     "output_type": "execute_result"
    }
   ],
   "source": [
    "pop_std_mass = us_people_mass_pounds.std()\n",
    "pop_std_mass"
   ]
  },
  {
   "cell_type": "markdown",
   "metadata": {},
   "source": [
    "In terms of formula, Standard Error is what you see in the denominator when calculating various kind of Inferential Statistics. The reason why Standard Error is used as a denominator in various formulas of inferential statistics is that standard error tells us about the amount of variation that we can expect when we draw another sample of the same size from the population.\n"
   ]
  },
  {
   "cell_type": "markdown",
   "metadata": {},
   "source": [
    "**How to calculate standard error without formula?**\n",
    "\n",
    "You can calculate the standard error (SE) and confidence interval (CI) of the more common sample statistics (means, proportions, event counts and rates, and regression coefficients). But an SE and CI exist (theoretically, at least) for any number you could possibly wring from your data — medians, centiles, correlation coefficients.\n",
    "\n",
    "Formulas for the SE and CI around these numbers might not be available or might be hopelessly difficult to evaluate. Also, the formulas that do exist might apply only to normally distributed numbers, and you might not be sure what kind of distribution your data follows.\n",
    "\n",
    "Consider a very simple problem. Suppose you’ve measured the marks of 20 students and have gotten the following results: \n",
    "\n",
    "61, 88, 89, 89, 90, 92, 93, 94, 98, 98, 101, 102, 105, 108, 109, 113, 114, 115, 120, and 138.\n",
    "These numbers have a mean of 100.85 and a median of 99.5.\n",
    "\n",
    "But what about the SE and CI for the median, for which there are no simple formulas? And what if you can’t be sure those IQ values come from a normal distribution? Then the simple formulas might not be reliable.Fortunately, there is a very general method for estimating SEs and CIs for anything you can calculate from your data, and it doesn’t require any assumptions about how your numbers are distributed. "
   ]
  },
  {
   "cell_type": "markdown",
   "metadata": {},
   "source": [
    "# **BOOTSTRAPPING**\n",
    "\n",
    "Bootstrapping is a resampling method used to estimate the variability of statistical parameters from a dataset which is repeatedly sampled with replacement. Although for most problems it is impossible to know a statistic’s true confidence interval, the bootstrap method is asymptotically more accurate than the standard intervals obtained using sample variance and assumptions of normality.\n",
    "\n"
   ]
  },
  {
   "cell_type": "markdown",
   "metadata": {},
   "source": [
    "**Why use Bootstrapping?**\n",
    "\n",
    "We cannot obtain data for the entire population. Hence, we draw multiple samples from the population and use central limit theorem based methods to form the sampling distribution. But at times we cannot even gather multiple samples from the population. Therefore, we form the bootstrap distribution using the only sample we have.\n",
    "We cannot use central limit theorem based methods to construct confidence intervals or hypothesis tests for parameters like the median."
   ]
  },
  {
   "cell_type": "markdown",
   "metadata": {},
   "source": [
    "**Why sampling with replacement?**\n",
    "\n",
    "The idea behind this is that our sample is a good representation of the original population. Hence, there will be more than one observation in the population similar to a particular observation in the sample.\n",
    "\n",
    "For example, we have heights of 20 male adults. We can assume that if one of the individuals in this sample has a height of 60 inches, there will be more than one adult in the original population with a height of 60 inches."
   ]
  },
  {
   "cell_type": "markdown",
   "metadata": {},
   "source": [
    "**CONDITIONS:**\n",
    "\n",
    "We will get accurate estimates only if the sample size is sufficiently large.\n",
    "\n",
    "The obtained bootstrap distribution is not extremely skewed or sparse.\n",
    "\n",
    "The sample should be a good representation of the population."
   ]
  },
  {
   "cell_type": "markdown",
   "metadata": {},
   "source": [
    "To see how the bootstrap method works, here’s how you would use it to estimate the SE and 95% CI of the mean of datashown earlier. You have to resample your 100 numbers, over and over again, in the following way:"
   ]
  },
  {
   "cell_type": "code",
   "execution_count": 7,
   "metadata": {},
   "outputs": [],
   "source": [
    "sample_means = []\n",
    "n = 30\n",
    "for sample in range(0, 500):\n",
    "    # random sampling done with replacement\n",
    "    sample_values = np.random.choice(us_people_mass_pounds, size=n)    \n",
    "    sample_mean = np.mean(sample_values)\n",
    "    sample_means.append(sample_mean)"
   ]
  },
  {
   "cell_type": "markdown",
   "metadata": {},
   "source": [
    "**Central Limit Theorem**\n",
    "\n",
    "Now a question can be raised that why do we consider the mean of a sample distribution to be same as of the mean of the population from which it is drawn. This is presumed because of the Central Limit Theorem which states that if we plot mean of all the samples on a graph, then they will follow Normal Distribution regardless of how the distribution is of the actual population. It is the counter-intuitive aspect according to which even if the population is not normally distributed, the sample distribution will form a normal distribution.\n",
    "\n",
    "Secondly, it states that the mean of all the sample means will converge or will be very close to the population mean.According to Central Limit Theorem, the distribution from such a data will be normal and the mean generated from such a distribution is roughly as same as the mean of the population (average Income of the people of this city).\n",
    "\n",
    "To gain insight into the shape of the distirbution of bootstrapped sample means, we can plot a histogram of the observations centered on the initial sample mean. Using matplotlib and seaborn, this is readily accomplished in just a few lines of code:\n"
   ]
  },
  {
   "cell_type": "code",
   "execution_count": 8,
   "metadata": {},
   "outputs": [
    {
     "data": {
      "image/png": "[encoded data removed]",
      "text/plain": [
       "<Figure size 432x288 with 1 Axes>"
      ]
     },
     "metadata": {
      "needs_background": "light"
     },
     "output_type": "display_data"
    }
   ],
   "source": [
    "sns.distplot(sample_means, hist_kws=dict(edgecolor=\"r\", linewidth=.675))\n",
    "plt.title(\"Distribution of Sample Means ($n=30$) of People's Mass in Pounds\", y=1.015, fontsize=20)\n",
    "plt.xlabel(\"mean_of_sample_means: {}\".format(np.mean(sample_means)))\n",
    "plt.axvline(x=np.mean(sample_means)) # vertical line at xbar_init\n",
    "plt.ylabel(\"frequency of occurence\", labelpad=14);"
   ]
  },
  {
   "cell_type": "markdown",
   "metadata": {},
   "source": [
    "Wow! This distribution of sample means looks normal! The curve is fairly symmetrical around the central value and the median is roughly equivalent to the mean (see below). Based on the central limit theorem, sampling a sufficient number of times with a sufficient size will result in a normal distribution of sample means."
   ]
  },
  {
   "cell_type": "code",
   "execution_count": 9,
   "metadata": {},
   "outputs": [
    {
     "data": {
      "text/plain": [
       "556.9238"
      ]
     },
     "execution_count": 9,
     "metadata": {},
     "output_type": "execute_result"
    }
   ],
   "source": [
    "mean_of_sample_means = np.mean(sample_means)\n",
    "mean_of_sample_means"
   ]
  },
  {
   "cell_type": "markdown",
   "metadata": {},
   "source": [
    "This mean_of_sample_means value is roughly equivalent to our population mean value assigned to the variable pop_mean_mass. Based on the central limit theorem, this will always be the case!"
   ]
  },
  {
   "cell_type": "code",
   "execution_count": 10,
   "metadata": {},
   "outputs": [
    {
     "data": {
      "text/plain": [
       "50.87399823592178"
      ]
     },
     "execution_count": 10,
     "metadata": {},
     "output_type": "execute_result"
    }
   ],
   "source": [
    "std_dev_of_sample_means = np.std(sample_means, ddof= 1 )\n",
    "std_dev_of_sample_means"
   ]
  },
  {
   "cell_type": "code",
   "execution_count": 11,
   "metadata": {},
   "outputs": [
    {
     "data": {
      "text/plain": [
       "49.43230020273519"
      ]
     },
     "execution_count": 11,
     "metadata": {},
     "output_type": "execute_result"
    }
   ],
   "source": [
    "standard_error = pop_std_mass/np.sqrt(n)\n",
    "standard_error"
   ]
  },
  {
   "cell_type": "markdown",
   "metadata": {},
   "source": [
    "This process gives you a “bootstrapped” estimate of the SE of the sample statistic. In this example, you calculate the SD of the hundreds of means to get the SE of the mean"
   ]
  },
  {
   "cell_type": "markdown",
   "metadata": {},
   "source": [
    "# Calculate the t-statistic\n",
    "\n",
    "A one-sample t-test helps determine if the mean of a population is significantly different than a sample mean. Both the sample and population have the same variable measurement. Remember, in a one-sample t-test, we don't know the population standard deviation so we cannot use that in the following calculation. The equation for the t-statistic for a one-sample t-test is:\n",
    "<img src=\"one_sample_t.svg\"  width=70 height=70 >\n",
    "\n",
    "x¯ is sample mean and is a point estimate\n",
    "μ is our known current population mean\n",
    "s is the sample standard deviation (remember to use bessel's correction with n−1 in the denominator)\n",
    "n is the sample size\n",
    "s/√n is our expected standard deviation from a sampling distribution of means (**standard error of the means**)\n",
    "\n",
    "The t-statistic tells us how far our sample mean lies from the population mean in terms of standard error units on a sampling distribution of sample means. This sampling distribution comes from taking a sufficiently large number of size n samples from the population data."
   ]
  },
  {
   "cell_type": "code",
   "execution_count": 13,
   "metadata": {},
   "outputs": [
    {
     "data": {
      "text/plain": [
       "-46.629999999999995"
      ]
     },
     "execution_count": 13,
     "metadata": {},
     "output_type": "execute_result"
    }
   ],
   "source": [
    "numerator = sample_mean-pop_mean_mass\n",
    "numerator"
   ]
  },
  {
   "cell_type": "code",
   "execution_count": 14,
   "metadata": {},
   "outputs": [
    {
     "data": {
      "text/plain": [
       "-0.9433103417959066"
      ]
     },
     "execution_count": 14,
     "metadata": {},
     "output_type": "execute_result"
    }
   ],
   "source": [
    "t_statistic = numerator/standard_error\n",
    "t_statistic"
   ]
  },
  {
   "cell_type": "markdown",
   "metadata": {},
   "source": [
    "The numerator measures the \"strength\" of the signal: the difference between the sample mean and population mean.The denominator measures the variation or \"noise\" in the sample data. \n",
    "\n",
    "This value of −0.94 seems to indicate us_people_mass_pounds have with fewer weights on average than the general population.The amount of variation (value in the denominator) is \"noisier\" (a larger value) - for a smaller n value. The demominator is called the **standard error**."
   ]
  },
  {
   "cell_type": "markdown",
   "metadata": {},
   "source": [
    "\n",
    "# Confidence Intervals\n",
    "More interestingly, we can use this sampling distribution to calculate confidence intervals for our statistic. The process is quite simple and again doesn’t involve statistical formulas that depend on several assumptions — it is just a matter of calculating two percentiles."
   ]
  },
  {
   "cell_type": "code",
   "execution_count": 15,
   "metadata": {},
   "outputs": [
    {
     "data": {
      "text/plain": [
       "460.03649160263905"
      ]
     },
     "execution_count": 15,
     "metadata": {},
     "output_type": "execute_result"
    }
   ],
   "source": [
    "lower_95_perc_bound = mean_of_sample_means - 1.96*standard_error\n",
    "lower_95_perc_bound"
   ]
  },
  {
   "cell_type": "code",
   "execution_count": 16,
   "metadata": {},
   "outputs": [
    {
     "data": {
      "text/plain": [
       "653.811108397361"
      ]
     },
     "execution_count": 16,
     "metadata": {},
     "output_type": "execute_result"
    }
   ],
   "source": [
    "upper_95_perc_bound = mean_of_sample_means + 1.96*standard_error\n",
    "upper_95_perc_bound"
   ]
  },
  {
   "cell_type": "code",
   "execution_count": 17,
   "metadata": {},
   "outputs": [
    {
     "data": {
      "image/png": "[encoded data removed]",
      "text/plain": [
       "<Figure size 432x288 with 1 Axes>"
      ]
     },
     "metadata": {
      "needs_background": "light"
     },
     "output_type": "display_data"
    }
   ],
   "source": [
    "import scipy.stats as stats\n",
    "kde = stats.gaussian_kde(sample_means)\n",
    "pos = np.linspace(np.min(sample_means), np.max(sample_means), 10000)\n",
    "plt.plot(pos, kde(pos), color='teal')\n",
    "shade = np.linspace(lower_95_perc_bound, upper_95_perc_bound, 300)\n",
    "plt.fill_between(shade, kde(shade), alpha=0.45, color='teal',)\n",
    "plt.text(x=154, y=.01, horizontalalignment='center', fontsize=17, \n",
    "         s=\"95% of sample means fall within\\nthis shaded area of plus or minus\\n1.96 z-scores from the mean\", \n",
    "         bbox=dict(facecolor='whitesmoke', boxstyle=\"round, pad=0.1\"))\n",
    "plt.title(\"Distribution of Sample Means ($n=30$) of People's Mass in Pounds\", y=1.015, fontsize=20)\n",
    "plt.xlabel(\"sample mean mass [pounds]\", labelpad=14)\n",
    "plt.ylabel(\"frequency of occurence\", labelpad=14);"
   ]
  },
  {
   "cell_type": "markdown",
   "metadata": {},
   "source": []
  },
  {
   "cell_type": "markdown",
   "metadata": {},
   "source": [
    "In terms of bootstrap sophistication, the percentile method ranks low. Other variations, such as the Bias-Corrected and Accelerated method return meaningful results even when the distribution in question exhibits significantly deviation from normality. But the core approach remains the same.\n",
    "\n",
    "To demomstrate the functionality of bootstrap, we calculate the 90%, 95%, 99% & 99.5% bootstrap confidence intervals for the mean based on the following sample:"
   ]
  },
  {
   "cell_type": "code",
   "execution_count": 18,
   "metadata": {},
   "outputs": [],
   "source": [
    "def bootstrap(data, n=300, func=np.mean):\n",
    "    \"\"\"\n",
    "    Generate `n` bootstrap samples, evaluating `func`\n",
    "    at each resampling. `bootstrap` returns a function,\n",
    "    which can be called to obtain confidence intervals\n",
    "    of interest.\n",
    "    \"\"\"\n",
    "    simulations = list()\n",
    "    sample_size = len(data)\n",
    "    xbar_init = np.mean(data)\n",
    "    for c in range(n):\n",
    "        itersample = np.random.choice(data, size=sample_size, replace=True)\n",
    "        simulations.append(func(itersample))\n",
    "    simulations.sort()\n",
    "    \n",
    "    def ci(p):\n",
    "        \"\"\"\n",
    "        Return 2-sided symmetric confidence interval specified\n",
    "        by p.\n",
    "        \"\"\"\n",
    "        u_pval = (1+p)/2.\n",
    "        l_pval = (1-u_pval)\n",
    "        l_indx = int(np.floor(n*l_pval))\n",
    "        u_indx = int(np.floor(n*u_pval))\n",
    "        return(simulations[l_indx],simulations[u_indx])\n",
    "    return(ci)\n",
    " "
   ]
  },
  {
   "cell_type": "code",
   "execution_count": 19,
   "metadata": {},
   "outputs": [
    {
     "name": "stdout",
     "output_type": "stream",
     "text": [
      "[(509.99, 598.62), (504.71, 607.84), (492.7, 623.01), (483.57, 631.6)]\n"
     ]
    }
   ],
   "source": [
    " boot = bootstrap(us_people_mass_pounds, n=300)\n",
    "cintervals  = [boot(i) for i in (.90, .95, .99, .995)]\n",
    "print(cintervals)\n"
   ]
  },
  {
   "cell_type": "markdown",
   "metadata": {},
   "source": [
    "Bootstrap confidence intervals can be obtained for just about any statistic of interest. In a regression setting, resampling with replacement from the residuals can be used to estimate the standard error of model coefficients."
   ]
  },
  {
   "cell_type": "markdown",
   "metadata": {},
   "source": [
    "# Estimation of the mean and its uncertainty"
   ]
  },
  {
   "cell_type": "markdown",
   "metadata": {},
   "source": [
    "**Role of Sample Size:**\n",
    "\n",
    "It is important to note that Central Limit Theorem is applicable as long as the sample size is large with the minimum sample size being at least of 30. This brings us back to the Standard error of mean where the sample size plays a major role as larger the sample size is, more accurate estimate the sample mean becomes of the parametric mean, therefore larger the sample, smaller the Standard Error. Also if the standard deviation in the sample is high, greater will be the assumed variation of scores in the population and consequently larger will be the Standard Error of mean. \n",
    "\n",
    "A practical result: Decreasing the uncertainty in a mean value estimate by a factor of two requires acquiring four times as many observations in the sample. Or decreasing the standard error by a factor of ten requires a hundred times as many observations.\n",
    "\n",
    "lets visualize the uncertainity from the following example..."
   ]
  },
  {
   "cell_type": "code",
   "execution_count": 20,
   "metadata": {},
   "outputs": [
    {
     "data": {
      "image/png": "[encoded data removed]",
      "text/plain": [
       "<Figure size 432x288 with 1 Axes>"
      ]
     },
     "metadata": {
      "needs_background": "light"
     },
     "output_type": "display_data"
    }
   ],
   "source": [
    "nens = 10000\n",
    "nts = np.arange(3, 21)\n",
    "n_nts = len(nts)\n",
    "\n",
    "SEMs = 1 / np.sqrt(nts)  # theory, for normal distribution\n",
    "\n",
    "sems_exp = np.zeros(nts.shape)\n",
    "sems_sample = np.zeros(nts.shape)\n",
    "\n",
    "for i, nt in enumerate(nts):\n",
    "    y = np.random.randn(nens, nt)\n",
    "    y_means = y.mean(axis=1)\n",
    "    y_stds = y.std(axis=1, ddof=1)  # note ddof argument!\n",
    "    sems_exp[i] = y_means.std()\n",
    "    sems_sample[i] = y_stds.mean() / np.sqrt(nt)\n",
    "    \n",
    "fig, ax = plt.subplots()\n",
    "ax.plot(nts, sems_exp, 'ro', label='MC std dev of mean')\n",
    "ax.plot(nts, SEMs, 'b-', label='SEM for Normal dist.')\n",
    "ax.plot(nts, sems_sample, 'gx', label='mean sample SEM')\n",
    "#ax.plot(nts, np.median(sems_theory, axis=0), 'bx', label='median SEM')\n",
    "ax.locator_params(axis='x', integer=True)\n",
    "ax.legend(loc='upper right')\n",
    "ax.set_xlabel('sample size');"
   ]
  },
  {
   "cell_type": "markdown",
   "metadata": {},
   "source": [
    "What is wrong with those green X-marks? Why do they systematically underestimate the SEM? They are based on  S , the estimate of  σ , and this is biased, as we saw in an earlier cell.\n",
    "\n",
    "Usually what we want to know is not the SEM but the location of the tails of the sampling distribution of the mean; this can be estimated from the SEM only if the distribution is normal. The distribution of sample means, with samples taken from a normal population, is not itself Gaussian; rather, it follows the \"Student's t\" distribution. For small  N , it has heavier tails than a Gaussian distribution. So sample size increases , the distribution becomes normal."
   ]
  },
  {
   "cell_type": "markdown",
   "metadata": {},
   "source": [
    "The standard error is an important indicator of how precise an estimate of the population parameter the sample statistic is. Taken together with such measures as effect size, p-value and sample size, the effect size can be a useful tool to the researcher who seeks to understand the accuracy of statistics calculated on random samples."
   ]
  },
  {
   "cell_type": "markdown",
   "metadata": {},
   "source": [
    "# Conclusion:\n",
    "If you need to draw conclusions about the spread and variability of the data, standard deviation is what you’ll need to use.\n",
    "\n",
    "If you’re interested in finding how precise the sample mean is or you’re testing the differences between two means, standard error is your metric.\n"
   ]
  },
  {
   "cell_type": "code",
   "execution_count": null,
   "metadata": {},
   "outputs": [],
   "source": []
  },
  {
   "cell_type": "code",
   "execution_count": null,
   "metadata": {},
   "outputs": [],
   "source": []
  },
  {
   "cell_type": "code",
   "execution_count": null,
   "metadata": {},
   "outputs": [],
   "source": []
  },
  {
   "cell_type": "code",
   "execution_count": null,
   "metadata": {},
   "outputs": [],
   "source": []
  },
  {
   "cell_type": "code",
   "execution_count": null,
   "metadata": {},
   "outputs": [],
   "source": []
  },
  {
   "cell_type": "code",
   "execution_count": null,
   "metadata": {},
   "outputs": [],
   "source": []
  },
  {
   "cell_type": "code",
   "execution_count": null,
   "metadata": {},
   "outputs": [],
   "source": []
  },
  {
   "cell_type": "code",
   "execution_count": null,
   "metadata": {},
   "outputs": [],
   "source": []
  },
  {
   "cell_type": "code",
   "execution_count": null,
   "metadata": {},
   "outputs": [],
   "source": []
  },
  {
   "cell_type": "code",
   "execution_count": null,
   "metadata": {},
   "outputs": [],
   "source": []
  },
  {
   "cell_type": "code",
   "execution_count": null,
   "metadata": {},
   "outputs": [],
   "source": []
  },
  {
   "cell_type": "code",
   "execution_count": null,
   "metadata": {},
   "outputs": [],
   "source": []
  },
  {
   "cell_type": "code",
   "execution_count": null,
   "metadata": {},
   "outputs": [],
   "source": []
  },
  {
   "cell_type": "code",
   "execution_count": null,
   "metadata": {},
   "outputs": [],
   "source": []
  },
  {
   "cell_type": "code",
   "execution_count": null,
   "metadata": {},
   "outputs": [],
   "source": []
  },
  {
   "cell_type": "code",
   "execution_count": null,
   "metadata": {},
   "outputs": [],
   "source": []
  },
  {
   "cell_type": "code",
   "execution_count": null,
   "metadata": {},
   "outputs": [],
   "source": []
  },
  {
   "cell_type": "code",
   "execution_count": null,
   "metadata": {},
   "outputs": [],
   "source": []
  },
  {
   "cell_type": "code",
   "execution_count": null,
   "metadata": {},
   "outputs": [],
   "source": []
  },
  {
   "cell_type": "code",
   "execution_count": null,
   "metadata": {},
   "outputs": [],
   "source": []
  },
  {
   "cell_type": "code",
   "execution_count": null,
   "metadata": {},
   "outputs": [],
   "source": []
  },
  {
   "cell_type": "code",
   "execution_count": null,
   "metadata": {},
   "outputs": [],
   "source": []
  },
  {
   "cell_type": "code",
   "execution_count": null,
   "metadata": {},
   "outputs": [],
   "source": []
  },
  {
   "cell_type": "code",
   "execution_count": null,
   "metadata": {},
   "outputs": [],
   "source": []
  },
  {
   "cell_type": "code",
   "execution_count": null,
   "metadata": {},
   "outputs": [],
   "source": []
  },
  {
   "cell_type": "code",
   "execution_count": null,
   "metadata": {},
   "outputs": [],
   "source": []
  },
  {
   "cell_type": "code",
   "execution_count": null,
   "metadata": {},
   "outputs": [],
   "source": []
  }
 ],
 "metadata": {
  "kernelspec": {
   "display_name": "Python 3",
   "language": "python",
   "name": "python3"
  },
  "language_info": {
   "codemirror_mode": {
    "name": "ipython",
    "version": 3
   },
   "file_extension": ".py",
   "mimetype": "text/x-python",
   "name": "python",
   "nbconvert_exporter": "python",
   "pygments_lexer": "ipython3",
   "version": "3.7.3"
  }
 },
 "nbformat": 4,
 "nbformat_minor": 2
}
